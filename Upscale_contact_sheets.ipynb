{
 "cells": [
  {
   "cell_type": "code",
   "execution_count": 13,
   "id": "faa7b105",
   "metadata": {
    "ExecuteTime": {
     "end_time": "2022-07-23T01:36:44.130000Z",
     "start_time": "2022-07-23T01:36:44.118556Z"
    }
   },
   "outputs": [],
   "source": [
    "import glob\n",
    "from subprocess import check_output, STDOUT"
   ]
  },
  {
   "cell_type": "code",
   "execution_count": 10,
   "id": "e085c7cc",
   "metadata": {
    "ExecuteTime": {
     "end_time": "2022-07-23T01:23:43.142971Z",
     "start_time": "2022-07-23T01:23:43.109343Z"
    },
    "scrolled": true
   },
   "outputs": [
    {
     "data": {
      "text/plain": [
       "22"
      ]
     },
     "execution_count": 10,
     "metadata": {},
     "output_type": "execute_result"
    }
   ],
   "source": [
    "start = glob.glob('crop[0-9].png') + glob.glob('crop[0-9][0-9].png')\n",
    "len(start)"
   ]
  },
  {
   "cell_type": "code",
   "execution_count": 14,
   "id": "83996e75",
   "metadata": {
    "ExecuteTime": {
     "end_time": "2022-07-23T01:38:57.698625Z",
     "start_time": "2022-07-23T01:36:48.572760Z"
    }
   },
   "outputs": [
    {
     "name": "stdout",
     "output_type": "stream",
     "text": [
      "crop1.png\n",
      "crop2.png\n",
      "crop3.png\n",
      "crop4.png\n",
      "crop5.png\n",
      "crop6.png\n",
      "crop7.png\n",
      "crop8.png\n",
      "crop9.png\n",
      "crop10.png\n",
      "crop11.png\n",
      "crop12.png\n",
      "crop13.png\n",
      "crop14.png\n",
      "crop15.png\n",
      "crop16.png\n",
      "crop17.png\n",
      "crop18.png\n",
      "crop19.png\n",
      "crop20.png\n",
      "crop21.png\n",
      "crop22.png\n"
     ]
    }
   ],
   "source": [
    "for name in start:\n",
    "    print(name)\n",
    "    check_output(f'convert {name} -gravity center -crop 415x415+0+0 +repage fixed_{name} && convert fixed_{name} -resize 1660x1660 full_{name} && convert fixed_{name} -gravity center -background none -extent 1660x1660 padded_{name}',\n",
    "        shell=True, stderr=STDOUT)        "
   ]
  },
  {
   "cell_type": "code",
   "execution_count": 20,
   "id": "d42dd266",
   "metadata": {
    "ExecuteTime": {
     "end_time": "2022-07-23T01:53:49.114056Z",
     "start_time": "2022-07-23T01:53:49.079080Z"
    }
   },
   "outputs": [
    {
     "data": {
      "text/plain": [
       "88"
      ]
     },
     "execution_count": 20,
     "metadata": {},
     "output_type": "execute_result"
    }
   ],
   "source": [
    "ones = [a for a in glob.glob('crop[0-9]*_*.png') if '_and_' not in a]\n",
    "len(ones)"
   ]
  },
  {
   "cell_type": "code",
   "execution_count": 21,
   "id": "a2bf3677",
   "metadata": {
    "ExecuteTime": {
     "end_time": "2022-07-23T02:03:31.377751Z",
     "start_time": "2022-07-23T01:58:00.902435Z"
    }
   },
   "outputs": [
    {
     "name": "stdout",
     "output_type": "stream",
     "text": [
      "crop10_FatalPixels\n",
      "crop10_PSNR\n",
      "crop10_ESRGAN\n",
      "crop10_FatalAnime\n",
      "crop11_FatalPixels\n",
      "crop11_PSNR\n",
      "crop11_ESRGAN\n",
      "crop11_FatalAnime\n",
      "crop12_FatalPixels\n",
      "crop12_PSNR\n",
      "crop12_ESRGAN\n",
      "crop12_FatalAnime\n",
      "crop13_FatalPixels\n",
      "crop13_PSNR\n",
      "crop13_ESRGAN\n",
      "crop13_FatalAnime\n",
      "crop14_FatalPixels\n",
      "crop14_PSNR\n",
      "crop14_ESRGAN\n",
      "crop14_FatalAnime\n",
      "crop15_FatalPixels\n",
      "crop15_PSNR\n",
      "crop15_ESRGAN\n",
      "crop15_FatalAnime\n",
      "crop16_FatalPixels\n",
      "crop16_PSNR\n",
      "crop16_ESRGAN\n",
      "crop16_FatalAnime\n",
      "crop17_FatalPixels\n",
      "crop17_PSNR\n",
      "crop17_ESRGAN\n",
      "crop17_FatalAnime\n",
      "crop18_FatalPixels\n",
      "crop18_PSNR\n",
      "crop18_ESRGAN\n",
      "crop18_FatalAnime\n",
      "crop19_FatalPixels\n",
      "crop19_PSNR\n",
      "crop19_ESRGAN\n",
      "crop19_FatalAnime\n",
      "crop1_PSNR\n",
      "crop1_ESRGAN\n",
      "crop1_FatalPixels\n",
      "crop1_FatalAnime\n",
      "crop20_FatalPixels\n",
      "crop20_PSNR\n",
      "crop20_ESRGAN\n",
      "crop20_FatalAnime\n",
      "crop21_FatalPixels\n",
      "crop21_PSNR\n",
      "crop21_ESRGAN\n",
      "crop21_FatalAnime\n",
      "crop22_FatalPixels\n",
      "crop22_PSNR\n",
      "crop22_ESRGAN\n",
      "crop22_FatalAnime\n",
      "crop2_PSNR\n",
      "crop2_ESRGAN\n",
      "crop2_FatalPixels\n",
      "crop2_FatalAnime\n",
      "crop3_PSNR\n",
      "crop3_ESRGAN\n",
      "crop3_FatalPixels\n",
      "crop3_FatalAnime\n",
      "crop4_FatalPixels\n",
      "crop4_PSNR\n",
      "crop4_ESRGAN\n",
      "crop4_FatalAnime\n",
      "crop5_FatalPixels\n",
      "crop5_PSNR\n",
      "crop5_ESRGAN\n",
      "crop5_FatalAnime\n",
      "crop6_FatalPixels\n",
      "crop6_PSNR\n",
      "crop6_ESRGAN\n",
      "crop6_FatalAnime\n",
      "crop7_FatalPixels\n",
      "crop7_PSNR\n",
      "crop7_ESRGAN\n",
      "crop7_FatalAnime\n",
      "crop8_FatalPixels\n",
      "crop8_PSNR\n",
      "crop8_ESRGAN\n",
      "crop8_FatalAnime\n",
      "crop9_FatalPixels\n",
      "crop9_PSNR\n",
      "crop9_ESRGAN\n",
      "crop9_FatalAnime\n"
     ]
    }
   ],
   "source": [
    "seen = set([])\n",
    "for fn in ones:\n",
    "    a = fn.split('_')\n",
    "    name = '_'.join([a[0], a[3]])\n",
    "    if name in seen:\n",
    "        continue\n",
    "    seen.add(name)\n",
    "    print(name)\n",
    "    check_output(f'convert {fn} -gravity center -crop 1660x1660+0+0 +repage fixed_{name}.png',\n",
    "        shell=True, stderr=STDOUT)        "
   ]
  },
  {
   "cell_type": "code",
   "execution_count": 23,
   "id": "f22fae0f",
   "metadata": {
    "ExecuteTime": {
     "end_time": "2022-07-23T02:11:20.579026Z",
     "start_time": "2022-07-23T02:11:20.553355Z"
    }
   },
   "outputs": [
    {
     "data": {
      "text/plain": [
       "241"
      ]
     },
     "execution_count": 23,
     "metadata": {},
     "output_type": "execute_result"
    }
   ],
   "source": [
    "multi = [a for a in glob.glob('crop[0-9]*_*.png') if '_and_' in a]\n",
    "len(multi)"
   ]
  },
  {
   "cell_type": "code",
   "execution_count": 24,
   "id": "d09e2660",
   "metadata": {
    "ExecuteTime": {
     "end_time": "2022-07-23T02:11:42.227152Z",
     "start_time": "2022-07-23T02:11:42.206320Z"
    }
   },
   "outputs": [
    {
     "data": {
      "text/plain": [
       "'crop10_superres_bifpus_ESRGAN_and_FatalPixels_85_15.png'"
      ]
     },
     "execution_count": 24,
     "metadata": {},
     "output_type": "execute_result"
    }
   ],
   "source": [
    "multi[0]"
   ]
  },
  {
   "cell_type": "code",
   "execution_count": 28,
   "id": "71cbb5c6",
   "metadata": {
    "ExecuteTime": {
     "end_time": "2022-07-23T02:28:36.288625Z",
     "start_time": "2022-07-23T02:14:46.882139Z"
    }
   },
   "outputs": [
    {
     "name": "stdout",
     "output_type": "stream",
     "text": [
      "crop10_ESRGAN_and_FatalPixels_85\n",
      "crop10_ESRGAN_and_PSNR_85\n",
      "crop10_ESRGAN_and_FatalPixels_50\n",
      "crop10_ESRGAN_and_FatalPixels_15\n",
      "crop10_ESRGAN_and_PSNR_70\n",
      "crop10_ESRGAN_and_PSNR_15\n",
      "crop10_ESRGAN_and_FatalPixels_70\n",
      "crop10_ESRGAN_and_FatalPixels_30\n",
      "crop10_ESRGAN_and_PSNR_30\n",
      "crop10_ESRGAN_and_PSNR_50\n",
      "crop11_ESRGAN_and_FatalPixels_85\n",
      "crop11_ESRGAN_and_PSNR_85\n",
      "crop11_ESRGAN_and_FatalPixels_50\n",
      "crop11_ESRGAN_and_FatalPixels_15\n",
      "crop11_ESRGAN_and_PSNR_70\n",
      "crop11_ESRGAN_and_PSNR_15\n",
      "crop11_ESRGAN_and_FatalPixels_70\n",
      "crop11_ESRGAN_and_FatalPixels_30\n",
      "crop11_ESRGAN_and_PSNR_30\n",
      "crop11_ESRGAN_and_PSNR_50\n",
      "crop12_ESRGAN_and_FatalPixels_85\n",
      "crop12_ESRGAN_and_PSNR_85\n",
      "crop12_ESRGAN_and_FatalPixels_50\n",
      "crop12_ESRGAN_and_FatalPixels_15\n",
      "crop12_ESRGAN_and_PSNR_70\n",
      "crop12_ESRGAN_and_PSNR_15\n",
      "crop12_ESRGAN_and_FatalPixels_70\n",
      "crop12_ESRGAN_and_FatalPixels_30\n",
      "crop12_ESRGAN_and_PSNR_30\n",
      "crop12_ESRGAN_and_PSNR_50\n",
      "crop13_ESRGAN_and_FatalPixels_85\n",
      "crop13_ESRGAN_and_PSNR_85\n",
      "crop13_ESRGAN_and_FatalPixels_50\n",
      "crop13_ESRGAN_and_FatalPixels_15\n",
      "crop13_ESRGAN_and_PSNR_70\n",
      "crop13_ESRGAN_and_PSNR_15\n",
      "crop13_ESRGAN_and_FatalPixels_70\n",
      "crop13_ESRGAN_and_FatalPixels_30\n",
      "crop13_ESRGAN_and_PSNR_30\n",
      "crop13_ESRGAN_and_PSNR_50\n",
      "crop14_ESRGAN_and_FatalPixels_85\n",
      "crop14_ESRGAN_and_PSNR_85\n",
      "crop14_ESRGAN_and_FatalPixels_50\n",
      "crop14_ESRGAN_and_FatalPixels_15\n",
      "crop14_ESRGAN_and_PSNR_70\n",
      "crop14_ESRGAN_and_PSNR_15\n",
      "crop14_ESRGAN_and_FatalPixels_70\n",
      "crop14_ESRGAN_and_FatalPixels_30\n",
      "crop14_ESRGAN_and_PSNR_30\n",
      "crop14_ESRGAN_and_PSNR_50\n",
      "crop15_ESRGAN_and_FatalPixels_85\n",
      "crop15_ESRGAN_and_PSNR_85\n",
      "crop15_ESRGAN_and_FatalPixels_50\n",
      "crop15_ESRGAN_and_FatalPixels_15\n",
      "crop15_ESRGAN_and_PSNR_70\n",
      "crop15_ESRGAN_and_PSNR_15\n",
      "crop15_ESRGAN_and_FatalPixels_70\n",
      "crop15_ESRGAN_and_FatalPixels_30\n",
      "crop15_ESRGAN_and_PSNR_30\n",
      "crop15_ESRGAN_and_PSNR_50\n",
      "crop16_ESRGAN_and_FatalPixels_85\n",
      "crop16_ESRGAN_and_PSNR_85\n",
      "crop16_ESRGAN_and_FatalPixels_50\n",
      "crop16_ESRGAN_and_FatalPixels_15\n",
      "crop16_ESRGAN_and_PSNR_70\n",
      "crop16_ESRGAN_and_PSNR_15\n",
      "crop16_ESRGAN_and_FatalPixels_70\n",
      "crop16_ESRGAN_and_FatalPixels_30\n",
      "crop16_ESRGAN_and_PSNR_30\n",
      "crop16_ESRGAN_and_PSNR_50\n",
      "crop17_ESRGAN_and_FatalPixels_85\n",
      "crop17_ESRGAN_and_PSNR_85\n",
      "crop17_ESRGAN_and_FatalPixels_50\n",
      "crop17_ESRGAN_and_FatalPixels_15\n",
      "crop17_ESRGAN_and_PSNR_70\n",
      "crop17_ESRGAN_and_PSNR_15\n",
      "crop17_ESRGAN_and_FatalPixels_70\n",
      "crop17_ESRGAN_and_FatalPixels_30\n",
      "crop17_ESRGAN_and_PSNR_30\n",
      "crop17_ESRGAN_and_PSNR_50\n",
      "crop18_ESRGAN_and_FatalPixels_85\n",
      "crop18_ESRGAN_and_PSNR_85\n",
      "crop18_ESRGAN_and_FatalPixels_50\n",
      "crop18_ESRGAN_and_FatalPixels_15\n",
      "crop18_ESRGAN_and_PSNR_70\n",
      "crop18_ESRGAN_and_PSNR_15\n",
      "crop18_ESRGAN_and_FatalPixels_70\n",
      "crop18_ESRGAN_and_FatalPixels_30\n",
      "crop18_ESRGAN_and_PSNR_30\n",
      "crop18_ESRGAN_and_PSNR_50\n",
      "crop19_ESRGAN_and_FatalPixels_85\n",
      "crop19_ESRGAN_and_PSNR_85\n",
      "crop19_ESRGAN_and_FatalPixels_50\n",
      "crop19_ESRGAN_and_FatalPixels_15\n",
      "crop19_ESRGAN_and_PSNR_70\n",
      "crop19_ESRGAN_and_PSNR_15\n",
      "crop19_ESRGAN_and_FatalPixels_70\n",
      "crop19_ESRGAN_and_FatalPixels_30\n",
      "crop19_ESRGAN_and_PSNR_30\n",
      "crop19_ESRGAN_and_PSNR_50\n",
      "crop1_ESRGAN_and_PSNR_15\n",
      "crop1_ESRGAN_and_PSNR_85\n",
      "crop1_ESRGAN_and_PSNR_70\n",
      "crop1_ESRGAN_and_FatalPixels_15\n",
      "crop1_ESRGAN_and_FatalPixels_50\n",
      "crop1_ESRGAN_and_PSNR_30\n",
      "crop1_ESRGAN_and_PSNR_50\n",
      "crop1_ESRGAN_and_FatalPixels_30\n",
      "crop1_ESRGAN_and_FatalPixels_85\n",
      "crop1_ESRGAN_and_FatalPixels_70\n",
      "crop20_ESRGAN_and_FatalPixels_85\n",
      "crop20_ESRGAN_and_PSNR_85\n",
      "crop20_ESRGAN_and_FatalPixels_50\n",
      "crop20_ESRGAN_and_FatalPixels_15\n",
      "crop20_ESRGAN_and_PSNR_70\n",
      "crop20_ESRGAN_and_PSNR_15\n",
      "crop20_ESRGAN_and_FatalPixels_70\n",
      "crop20_ESRGAN_and_FatalPixels_30\n",
      "crop20_ESRGAN_and_PSNR_30\n",
      "crop20_ESRGAN_and_PSNR_50\n",
      "crop21_ESRGAN_and_FatalPixels_85\n",
      "crop21_ESRGAN_and_PSNR_85\n",
      "crop21_ESRGAN_and_FatalPixels_50\n",
      "crop21_ESRGAN_and_FatalPixels_15\n",
      "crop21_ESRGAN_and_PSNR_70\n",
      "crop21_ESRGAN_and_PSNR_15\n",
      "crop21_ESRGAN_and_FatalPixels_70\n",
      "crop21_ESRGAN_and_FatalPixels_30\n",
      "crop21_ESRGAN_and_PSNR_30\n",
      "crop21_ESRGAN_and_PSNR_50\n",
      "crop22_ESRGAN_and_FatalPixels_85\n",
      "crop22_ESRGAN_and_PSNR_85\n",
      "crop22_ESRGAN_and_FatalPixels_50\n",
      "crop22_ESRGAN_and_FatalPixels_15\n",
      "crop22_ESRGAN_and_PSNR_70\n",
      "crop22_ESRGAN_and_PSNR_15\n",
      "crop22_ESRGAN_and_FatalPixels_70\n",
      "crop22_ESRGAN_and_FatalPixels_30\n",
      "crop22_ESRGAN_and_PSNR_30\n",
      "crop22_ESRGAN_and_PSNR_50\n",
      "crop2_ESRGAN_and_PSNR_15\n",
      "crop2_ESRGAN_and_PSNR_85\n",
      "crop2_ESRGAN_and_PSNR_70\n",
      "crop2_ESRGAN_and_FatalPixels_15\n",
      "crop2_ESRGAN_and_FatalPixels_50\n",
      "crop2_ESRGAN_and_PSNR_30\n",
      "crop2_ESRGAN_and_PSNR_50\n",
      "crop2_ESRGAN_and_FatalPixels_30\n",
      "crop2_ESRGAN_and_FatalPixels_85\n",
      "crop2_ESRGAN_and_FatalPixels_70\n",
      "crop3_ESRGAN_and_PSNR_15\n",
      "crop3_ESRGAN_and_PSNR_85\n",
      "crop3_ESRGAN_and_PSNR_70\n",
      "crop3_ESRGAN_and_FatalPixels_15\n",
      "crop3_ESRGAN_and_FatalPixels_50\n",
      "crop3_ESRGAN_and_PSNR_30\n",
      "crop3_ESRGAN_and_PSNR_50\n",
      "crop3_ESRGAN_and_FatalPixels_30\n",
      "crop3_ESRGAN_and_FatalPixels_85\n",
      "crop3_ESRGAN_and_FatalPixels_70\n",
      "crop4_ESRGAN_and_FatalPixels_85\n",
      "crop4_ESRGAN_and_PSNR_85\n",
      "crop4_ESRGAN_and_FatalPixels_50\n",
      "crop4_ESRGAN_and_FatalPixels_15\n",
      "crop4_ESRGAN_and_PSNR_70\n",
      "crop4_ESRGAN_and_PSNR_15\n",
      "crop4_ESRGAN_and_FatalPixels_70\n",
      "crop4_ESRGAN_and_FatalPixels_30\n",
      "crop4_ESRGAN_and_PSNR_30\n",
      "crop4_ESRGAN_and_PSNR_50\n",
      "crop5_ESRGAN_and_FatalPixels_85\n",
      "crop5_ESRGAN_and_PSNR_85\n",
      "crop5_ESRGAN_and_FatalPixels_50\n",
      "crop5_ESRGAN_and_FatalPixels_15\n",
      "crop5_ESRGAN_and_PSNR_70\n",
      "crop5_ESRGAN_and_PSNR_15\n",
      "crop5_ESRGAN_and_FatalPixels_70\n",
      "crop5_ESRGAN_and_FatalPixels_30\n",
      "crop5_ESRGAN_and_PSNR_30\n",
      "crop5_ESRGAN_and_PSNR_50\n",
      "crop6_ESRGAN_and_FatalPixels_85\n",
      "crop6_ESRGAN_and_PSNR_85\n",
      "crop6_ESRGAN_and_FatalPixels_50\n",
      "crop6_ESRGAN_and_FatalPixels_15\n",
      "crop6_ESRGAN_and_PSNR_70\n",
      "crop6_ESRGAN_and_PSNR_15\n",
      "crop6_ESRGAN_and_FatalPixels_70\n",
      "crop6_ESRGAN_and_FatalPixels_30\n",
      "crop6_ESRGAN_and_PSNR_30\n",
      "crop6_ESRGAN_and_PSNR_50\n",
      "crop7_ESRGAN_and_FatalPixels_85\n",
      "crop7_ESRGAN_and_PSNR_85\n",
      "crop7_ESRGAN_and_FatalPixels_50\n",
      "crop7_ESRGAN_and_FatalPixels_15\n",
      "crop7_ESRGAN_and_PSNR_70\n",
      "crop7_ESRGAN_and_PSNR_15\n",
      "crop7_ESRGAN_and_FatalPixels_70\n",
      "crop7_ESRGAN_and_FatalPixels_30\n",
      "crop7_ESRGAN_and_PSNR_30\n",
      "crop7_ESRGAN_and_PSNR_50\n",
      "crop8_ESRGAN_and_FatalPixels_85\n",
      "crop8_ESRGAN_and_PSNR_85\n",
      "crop8_ESRGAN_and_FatalPixels_50\n",
      "crop8_ESRGAN_and_FatalPixels_15\n",
      "crop8_ESRGAN_and_PSNR_70\n",
      "crop8_ESRGAN_and_PSNR_15\n",
      "crop8_ESRGAN_and_FatalPixels_70\n",
      "crop8_ESRGAN_and_FatalPixels_30\n",
      "crop8_ESRGAN_and_PSNR_30\n",
      "crop8_ESRGAN_and_PSNR_50\n",
      "crop9_ESRGAN_and_FatalPixels_85\n",
      "crop9_ESRGAN_and_PSNR_85\n",
      "crop9_ESRGAN_and_FatalPixels_50\n",
      "crop9_ESRGAN_and_FatalPixels_15\n",
      "crop9_ESRGAN_and_PSNR_70\n",
      "crop9_ESRGAN_and_PSNR_15\n",
      "crop9_ESRGAN_and_FatalPixels_70\n",
      "crop9_ESRGAN_and_FatalPixels_30\n",
      "crop9_ESRGAN_and_PSNR_30\n",
      "crop9_ESRGAN_and_PSNR_50\n"
     ]
    }
   ],
   "source": [
    "seen = set([])\n",
    "for fn in multi:\n",
    "    a = fn.split('_')\n",
    "    name = '_'.join([a[0], a[3], a[4], a[5], a[6]])\n",
    "    if name in seen:\n",
    "        continue\n",
    "    seen.add(name)\n",
    "    print(name)\n",
    "    check_output(f'convert {fn} -gravity center -crop 1660x1660+0+0 +repage fixed_{name}.png',\n",
    "        shell=True, stderr=STDOUT)        "
   ]
  },
  {
   "cell_type": "code",
   "execution_count": 58,
   "id": "46503949",
   "metadata": {
    "ExecuteTime": {
     "end_time": "2022-07-23T04:13:29.021129Z",
     "start_time": "2022-07-23T04:13:28.996738Z"
    }
   },
   "outputs": [],
   "source": [
    "import re\n",
    "\n",
    "def atoi(text):\n",
    "    return int(text) if text.isdigit() else text\n",
    "\n",
    "def natural_keys(text):\n",
    "    '''\n",
    "    alist.sort(key=natural_keys) sorts in human order\n",
    "    http://nedbatchelder.com/blog/200712/human_sorting.html\n",
    "    (See Toothy's implementation in the comments)\n",
    "    '''\n",
    "    return [ atoi(c) for c in re.split(r'(\\d+)', text) ]"
   ]
  },
  {
   "cell_type": "code",
   "execution_count": 60,
   "id": "d5399c86",
   "metadata": {
    "ExecuteTime": {
     "end_time": "2022-07-23T04:14:52.903046Z",
     "start_time": "2022-07-23T04:14:52.734363Z"
    }
   },
   "outputs": [],
   "source": [
    "padded = sorted(glob.glob('padded*.png'), key=natural_keys)\n",
    "full = sorted(glob.glob('full*.png'), key=natural_keys)\n",
    "psnr = sorted([a for a in glob.glob('fixed*PSNR.png')], key=natural_keys)\n",
    "esrgan = sorted([a for a in glob.glob('fixed*ESRGAN.png')], key=natural_keys)\n",
    "fatalp = sorted([a for a in glob.glob('fixed*FatalPixels.png')], key=natural_keys)\n",
    "fatala = sorted([a for a in glob.glob('fixed*FatalAnime.png')], key=natural_keys)\n",
    "esrgan_fatal_15 = sorted([a for a in glob.glob('fixed*FatalPixels_15.png')], key=natural_keys)\n",
    "esrgan_fatal_30 = sorted([a for a in glob.glob('fixed*FatalPixels_30.png')], key=natural_keys)\n",
    "esrgan_fatal_50 = sorted([a for a in glob.glob('fixed*FatalPixels_50.png')], key=natural_keys)\n",
    "esrgan_fatal_70 = sorted([a for a in glob.glob('fixed*FatalPixels_70.png')], key=natural_keys)\n",
    "esrgan_fatal_85 = sorted([a for a in glob.glob('fixed*FatalPixels_85.png')], key=natural_keys)\n",
    "esrgan_psnr_15 = sorted([a for a in glob.glob('fixed*PSNR_15.png')], key=natural_keys)\n",
    "esrgan_psnr_30 = sorted([a for a in glob.glob('fixed*PSNR_30.png')], key=natural_keys)\n",
    "esrgan_psnr_50 = sorted([a for a in glob.glob('fixed*PSNR_50.png')], key=natural_keys)\n",
    "esrgan_psnr_70 = sorted([a for a in glob.glob('fixed*PSNR_70.png')], key=natural_keys)\n",
    "esrgan_psnr_85 = sorted([a for a in glob.glob('fixed*PSNR_85.png')], key=natural_keys)"
   ]
  },
  {
   "cell_type": "code",
   "execution_count": 72,
   "id": "1091b191",
   "metadata": {
    "ExecuteTime": {
     "end_time": "2022-07-23T13:48:34.778734Z",
     "start_time": "2022-07-23T13:35:26.173183Z"
    }
   },
   "outputs": [],
   "source": [
    "# Stand-alone models\n",
    "for i in range(0, 11):\n",
    "    check_output(f'convert {\" \".join(full[i*2:(i+1)*2])} -gravity center -append full.png', shell=True, stderr=STDOUT)\n",
    "    check_output(f'convert {\" \".join(psnr[i*2:(i+1)*2])} -gravity center -append psnr.png', shell=True, stderr=STDOUT)\n",
    "    check_output(f'convert {\" \".join(esrgan[i*2:(i+1)*2])} -gravity center -append esrgan.png', shell=True, stderr=STDOUT)\n",
    "    check_output(f'convert {\" \".join(fatalp[i*2:(i+1)*2])} -gravity center -append fatalp.png', shell=True, stderr=STDOUT)\n",
    "    check_output(f'convert {\" \".join(fatala[i*2:(i+1)*2])} -gravity center -append fatala.png', shell=True, stderr=STDOUT)\n",
    "    check_output('convert full.png psnr.png esrgan.png fatalp.png fatala.png -gravity center +append bottom.jpg', shell=True, stderr=STDOUT)\n",
    "    check_output('convert title_full.png title_psnr.png title_esrgan.png title_fatalp.png title_fatala.png -gravity center +append top.png', shell=True, stderr=STDOUT) # horizontal\n",
    "    check_output(f'convert top.png bottom.jpg -gravity center -append full{i+1}.jpg', shell=True, stderr=STDOUT) # on-top"
   ]
  },
  {
   "cell_type": "code",
   "execution_count": 75,
   "id": "01072a22",
   "metadata": {
    "ExecuteTime": {
     "end_time": "2022-07-23T14:14:45.270131Z",
     "start_time": "2022-07-23T13:59:15.480309Z"
    }
   },
   "outputs": [],
   "source": [
    "# esrgan and fatalpixel\n",
    "for i in range(0, 11):\n",
    "    check_output(f'convert {\" \".join(full[i*2:(i+1)*2])} -gravity center -append full.png', shell=True, stderr=STDOUT)\n",
    "    check_output(f'convert {\" \".join(esrgan_fatal_15[i*2:(i+1)*2])} -gravity center -append esrgan_fatal_15.png', shell=True, stderr=STDOUT)\n",
    "    check_output(f'convert {\" \".join(esrgan_fatal_30[i*2:(i+1)*2])} -gravity center -append esrgan_fatal_30.png', shell=True, stderr=STDOUT)\n",
    "    check_output(f'convert {\" \".join(esrgan_fatal_50[i*2:(i+1)*2])} -gravity center -append esrgan_fatal_50.png', shell=True, stderr=STDOUT)\n",
    "    check_output(f'convert {\" \".join(esrgan_fatal_70[i*2:(i+1)*2])} -gravity center -append esrgan_fatal_70.png', shell=True, stderr=STDOUT)\n",
    "    check_output(f'convert {\" \".join(esrgan_fatal_85[i*2:(i+1)*2])} -gravity center -append esrgan_fatal_85.png', shell=True, stderr=STDOUT)\n",
    "    check_output('convert full.png esrgan_fatal_15.png esrgan_fatal_30.png esrgan_fatal_50.png esrgan_fatal_70.png esrgan_fatal_85.png -gravity center +append bottom.jpg', shell=True, stderr=STDOUT)\n",
    "    check_output('convert title_full.png title_esrgan_fatal_15.png title_esrgan_fatal_30.png title_esrgan_fatal_50.png title_esrgan_fatal_70.png title_esrgan_fatal_85.png -gravity center +append top.png', shell=True, stderr=STDOUT) # horizontal\n",
    "    check_output(f'convert top.png bottom.jpg -gravity center -append full{i+12}.jpg', shell=True, stderr=STDOUT) # on-top"
   ]
  },
  {
   "cell_type": "code",
   "execution_count": 76,
   "id": "4249532f",
   "metadata": {
    "ExecuteTime": {
     "end_time": "2022-07-23T14:30:11.274929Z",
     "start_time": "2022-07-23T14:14:45.280795Z"
    }
   },
   "outputs": [],
   "source": [
    "# esrgan and psnr\n",
    "for i in range(0, 11):\n",
    "    check_output(f'convert {\" \".join(full[i*2:(i+1)*2])} -gravity center -append full.png', shell=True, stderr=STDOUT)\n",
    "    check_output(f'convert {\" \".join(esrgan_psnr_15[i*2:(i+1)*2])} -gravity center -append esrgan_psnr_15.png', shell=True, stderr=STDOUT)\n",
    "    check_output(f'convert {\" \".join(esrgan_psnr_30[i*2:(i+1)*2])} -gravity center -append esrgan_psnr_30.png', shell=True, stderr=STDOUT)\n",
    "    check_output(f'convert {\" \".join(esrgan_psnr_50[i*2:(i+1)*2])} -gravity center -append esrgan_psnr_50.png', shell=True, stderr=STDOUT)\n",
    "    check_output(f'convert {\" \".join(esrgan_psnr_70[i*2:(i+1)*2])} -gravity center -append esrgan_psnr_70.png', shell=True, stderr=STDOUT)\n",
    "    check_output(f'convert {\" \".join(esrgan_psnr_85[i*2:(i+1)*2])} -gravity center -append esrgan_psnr_85.png', shell=True, stderr=STDOUT)\n",
    "    check_output('convert full.png esrgan_psnr_15.png esrgan_psnr_30.png esrgan_psnr_50.png esrgan_psnr_70.png esrgan_psnr_85.png -gravity center +append bottom.jpg', shell=True, stderr=STDOUT)\n",
    "    check_output('convert title_full.png title_esrgan_psnr_15.png title_esrgan_psnr_30.png title_esrgan_psnr_50.png title_esrgan_psnr_70.png title_esrgan_psnr_85.png -gravity center +append top.png', shell=True, stderr=STDOUT) # horizontal\n",
    "    check_output(f'convert top.png bottom.jpg -gravity center -append full{i+23}.jpg', shell=True, stderr=STDOUT) # on-top"
   ]
  },
  {
   "cell_type": "code",
   "execution_count": null,
   "id": "e5c83187",
   "metadata": {},
   "outputs": [],
   "source": []
  }
 ],
 "metadata": {
  "kernelspec": {
   "display_name": "Python 3 (ipykernel)",
   "language": "python",
   "name": "python3"
  },
  "language_info": {
   "codemirror_mode": {
    "name": "ipython",
    "version": 3
   },
   "file_extension": ".py",
   "mimetype": "text/x-python",
   "name": "python",
   "nbconvert_exporter": "python",
   "pygments_lexer": "ipython3",
   "version": "3.10.5"
  }
 },
 "nbformat": 4,
 "nbformat_minor": 5
}
